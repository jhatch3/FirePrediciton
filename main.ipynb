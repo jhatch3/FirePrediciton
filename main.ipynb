{
 "cells": [
  {
   "cell_type": "markdown",
   "id": "65a41065",
   "metadata": {},
   "source": [
    "# Abstract\n",
    "- Predicting wild fires in California using custom neural network. \n",
    "- Data : https://zenodo.org/records/14712845"
   ]
  },
  {
   "cell_type": "code",
   "execution_count": 6,
   "id": "829068b2",
   "metadata": {},
   "outputs": [
    {
     "name": "stdout",
     "output_type": "stream",
     "text": [
      "Pands Version: 2.2.3\n",
      "Numpy Version: 2.2.5\n",
      "Seaborn version: 0.13.2\n"
     ]
    }
   ],
   "source": [
    "#dependencies\n",
    "\n",
    "import pandas as pd\n",
    "import numpy as np\n",
    "import seaborn as sns\n",
    "\n",
    "print(f\"Pands Version: {pd.__version__}\")\n",
    "print(f\"Numpy Version: {np.__version__}\")\n",
    "print(f\"Seaborn version: {sns.__version__}\")"
   ]
  }
 ],
 "metadata": {
  "kernelspec": {
   "display_name": "Python 3",
   "language": "python",
   "name": "python3"
  },
  "language_info": {
   "codemirror_mode": {
    "name": "ipython",
    "version": 3
   },
   "file_extension": ".py",
   "mimetype": "text/x-python",
   "name": "python",
   "nbconvert_exporter": "python",
   "pygments_lexer": "ipython3",
   "version": "3.12.9"
  }
 },
 "nbformat": 4,
 "nbformat_minor": 5
}
